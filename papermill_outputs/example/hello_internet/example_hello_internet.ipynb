{
 "cells": [
  {
   "cell_type": "code",
   "execution_count": 1,
   "metadata": {
    "papermill": {
     "duration": 0.022999,
     "end_time": "2019-04-27T15:05:34.562613",
     "exception": false,
     "start_time": "2019-04-27T15:05:34.539614",
     "status": "completed"
    },
    "tags": [
     "injected-parameters"
    ]
   },
   "outputs": [],
   "source": [
    "# Parameters\n",
    "config = {\"msg\": \"Hello Internet!\", \"output_label\": \"hello_internet\"}\n"
   ]
  },
  {
   "cell_type": "code",
   "execution_count": 2,
   "metadata": {
    "papermill": {
     "duration": 1.976489,
     "end_time": "2019-04-27T15:05:36.560084",
     "exception": false,
     "start_time": "2019-04-27T15:05:34.583595",
     "status": "completed"
    },
    "tags": []
   },
   "outputs": [
    {
     "name": "stdout",
     "output_type": "stream",
     "text": [
      "{'msg': 'Hello Internet!', 'output_label': 'hello_internet'}\n"
     ]
    }
   ],
   "source": [
    "import pandas as pd\n",
    "import numpy as np\n",
    "\n",
    "# check if config exists\n",
    "try:\n",
    "    config\n",
    "except NameError:\n",
    "    config_exists = False\n",
    "else:\n",
    "    config_exists = True\n",
    "\n",
    "# make config if it does not exist already (e.g. passed in by papermill)\n",
    "if not(config_exists):\n",
    "    # set up some config for the experiment run\n",
    "    config = {\n",
    "        \"msg\" : \"...\",\n",
    "        \"output_label\" : \"...\"\n",
    "    }\n",
    "print(config)"
   ]
  },
  {
   "cell_type": "code",
   "execution_count": 3,
   "metadata": {
    "papermill": {
     "duration": 0.010933,
     "end_time": "2019-04-27T15:05:36.571771",
     "exception": false,
     "start_time": "2019-04-27T15:05:36.560838",
     "status": "completed"
    },
    "tags": []
   },
   "outputs": [
    {
     "name": "stdout",
     "output_type": "stream",
     "text": [
      "The message is: Hello Internet!\n",
      "The output label is: hello_internet\n"
     ]
    }
   ],
   "source": [
    "print(f\"The message is: {config['msg']}\")\n",
    "print(f\"The output label is: {config['output_label']}\")"
   ]
  },
  {
   "cell_type": "code",
   "execution_count": null,
   "metadata": {
    "papermill": {
     "duration": 0.0,
     "end_time": "2019-04-27T15:05:36.597761",
     "exception": null,
     "start_time": "2019-04-27T15:05:36.597761",
     "status": "completed"
    },
    "tags": []
   },
   "outputs": [],
   "source": []
  }
 ],
 "metadata": {
  "kernelspec": {
   "display_name": "Python 3",
   "language": "python",
   "name": "python3"
  },
  "language_info": {
   "codemirror_mode": {
    "name": "ipython",
    "version": 3
   },
   "file_extension": ".py",
   "mimetype": "text/x-python",
   "name": "python",
   "nbconvert_exporter": "python",
   "pygments_lexer": "ipython3",
   "version": "3.6.8"
  },
  "papermill": {
   "duration": 8.887578,
   "end_time": "2019-04-27T15:05:38.557263",
   "environment_variables": {},
   "exception": false,
   "output_path": "papermill_outputs/example/hello_internet/example_hello_internet.ipynb",
   "parameters": {
    "config": {
     "msg": "Hello Internet!",
     "output_label": "hello_internet"
    }
   },
   "start_time": "2019-04-27T15:05:29.669685",
   "version": "0.14.2"
  }
 },
 "nbformat": 4,
 "nbformat_minor": 2
}